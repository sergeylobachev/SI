{
 "cells": [
  {
   "cell_type": "code",
   "execution_count": 1,
   "metadata": {},
   "outputs": [],
   "source": [
    "import pandas as pd\n",
    "\n",
    "K = 25"
   ]
  },
  {
   "cell_type": "code",
   "execution_count": 2,
   "metadata": {},
   "outputs": [],
   "source": [
    "def parser(file_name, sheet_name):\n",
    "\n",
    "    df = pd.read_excel(file_name, sheet_name=sheet_name, header=None)\n",
    "    df.loc[len(df)] = [None, None]\n",
    "    matches = []\n",
    "    player_names = []\n",
    "    scores = []\n",
    "\n",
    "    for i, row in df.iterrows():\n",
    "        player = row[0]  # Column A (Player)\n",
    "        score = row[1]   # Column B (Score)\n",
    "\n",
    "        if pd.isna(player) and pd.isna(score):\n",
    "            if len(player_names) in [2, 3, 4, 5]:\n",
    "                matches.append({'player_names': player_names, 'scores': scores})\n",
    "            \n",
    "            player_names = []\n",
    "            scores = []\n",
    "            continue\n",
    "\n",
    "        player_names.append(player)\n",
    "        scores.append(score)\n",
    "    print(f\"{sheet_name} total number of matches is: {len(matches)}\")\n",
    "    return matches"
   ]
  },
  {
   "cell_type": "code",
   "execution_count": 3,
   "metadata": {},
   "outputs": [],
   "source": [
    "# returns expected score for player A with rating Ra\n",
    "# expeced score is win probability + 0.5 * draw probability\n",
    "def calculate_expected_score(Ra, Rb):\n",
    "    Ea = 1 / (1 + pow(10, (Rb-Ra)/400))\n",
    "    return Ea"
   ]
  },
  {
   "cell_type": "code",
   "execution_count": 4,
   "metadata": {},
   "outputs": [
    {
     "name": "stdout",
     "output_type": "stream",
     "text": [
      "23\n",
      "37\n"
     ]
    }
   ],
   "source": [
    "# (player_id : name)\n",
    "players = pd.read_excel(\"Data.xlsx\", sheet_name=\"Players\", header=None)\n",
    "players.columns = players.iloc[0]\n",
    "players = players.drop(0).reset_index(drop=True)\n",
    "\n",
    "# Convert to dictionary (ID as key, Player as value)\n",
    "id_to_player_dict = pd.Series(players['Player'].values, index=players['ID']).to_dict()\n",
    "\n",
    "player_to_id_dict = {v: k for k, v in id_to_player_dict.items()}\n",
    "    \n",
    "# (player_id : rating)\n",
    "ratings_dict = {i: 1500 for i in range(1, len(id_to_player_dict)+1)}\n",
    "\n",
    "print(player_to_id_dict['Сергей Лобачёв'])\n",
    "print(player_to_id_dict['Мария Корчемкина'])"
   ]
  },
  {
   "cell_type": "code",
   "execution_count": null,
   "metadata": {},
   "outputs": [
    {
     "name": "stdout",
     "output_type": "stream",
     "text": [
      "Vuelta_1 total number of matches is: 48\n",
      "USA total number of matches is: 55\n",
      "Bez_Povoda total number of matches is: 42\n",
      "Poligon total number of matches is: 15\n"
     ]
    },
    {
     "name": "stderr",
     "output_type": "stream",
     "text": [
      "C:\\Users\\Sergey Lobachev\\AppData\\Local\\Temp\\ipykernel_16668\\1240587464.py:4: FutureWarning: The behavior of DataFrame concatenation with empty or all-NA entries is deprecated. In a future version, this will no longer exclude empty or all-NA columns when determining the result dtypes. To retain the old behavior, exclude the relevant entries before the concat operation.\n",
      "  df.loc[len(df)] = [None, None]\n",
      "C:\\Users\\Sergey Lobachev\\AppData\\Local\\Temp\\ipykernel_16668\\1240587464.py:4: FutureWarning: The behavior of DataFrame concatenation with empty or all-NA entries is deprecated. In a future version, this will no longer exclude empty or all-NA columns when determining the result dtypes. To retain the old behavior, exclude the relevant entries before the concat operation.\n",
      "  df.loc[len(df)] = [None, None]\n",
      "C:\\Users\\Sergey Lobachev\\AppData\\Local\\Temp\\ipykernel_16668\\1240587464.py:4: FutureWarning: The behavior of DataFrame concatenation with empty or all-NA entries is deprecated. In a future version, this will no longer exclude empty or all-NA columns when determining the result dtypes. To retain the old behavior, exclude the relevant entries before the concat operation.\n",
      "  df.loc[len(df)] = [None, None]\n",
      "C:\\Users\\Sergey Lobachev\\AppData\\Local\\Temp\\ipykernel_16668\\1240587464.py:4: FutureWarning: The behavior of DataFrame concatenation with empty or all-NA entries is deprecated. In a future version, this will no longer exclude empty or all-NA columns when determining the result dtypes. To retain the old behavior, exclude the relevant entries before the concat operation.\n",
      "  df.loc[len(df)] = [None, None]\n",
      "C:\\Users\\Sergey Lobachev\\AppData\\Local\\Temp\\ipykernel_16668\\1240587464.py:4: FutureWarning: The behavior of DataFrame concatenation with empty or all-NA entries is deprecated. In a future version, this will no longer exclude empty or all-NA columns when determining the result dtypes. To retain the old behavior, exclude the relevant entries before the concat operation.\n",
      "  df.loc[len(df)] = [None, None]\n",
      "C:\\Users\\Sergey Lobachev\\AppData\\Local\\Temp\\ipykernel_16668\\1240587464.py:4: FutureWarning: The behavior of DataFrame concatenation with empty or all-NA entries is deprecated. In a future version, this will no longer exclude empty or all-NA columns when determining the result dtypes. To retain the old behavior, exclude the relevant entries before the concat operation.\n",
      "  df.loc[len(df)] = [None, None]\n"
     ]
    },
    {
     "name": "stdout",
     "output_type": "stream",
     "text": [
      "Vuelta_2 total number of matches is: 38\n",
      "Nevermore_1 total number of matches is: 14\n",
      "Nevermore_2 total number of matches is: 14\n",
      "Сергей Лобачёв : 1796\n",
      "Вадим Барановский : 1787\n",
      "Андрей Романчев : 1764\n",
      "Юрий Корчемкин : 1754\n",
      "Шакир Мамедзаде : 1678\n",
      "Евгений Затуловский : 1653\n",
      "Николай Арчак : 1634\n",
      "Владимир Грамагин : 1632\n",
      "Станислав Алимпов : 1626\n",
      "Григорий Смыслов : 1617\n",
      "Илья Миронов : 1613\n",
      "Алексей Чернов : 1605\n",
      "Иван Суманеев  : 1598\n",
      "Евгений Новиков : 1590\n",
      "Петр Мартынов : 1579\n",
      "Ирина Соколова : 1577\n",
      "Леонид Койфман : 1577\n",
      "Жора Яковлев : 1568\n",
      "Григорий Львович : 1560\n",
      "Арнур Нигметов : 1554\n",
      "Константин Бриф : 1538\n",
      "Юлия Жоголева : 1537\n",
      "Роман Козелов : 1527\n",
      "Слава Бельков : 1524\n",
      "Сергей Меньшиков : 1522\n",
      "Макс Галкин : 1520\n",
      "Виктор Исаев : 1512\n",
      "Марианна Выдревич : 1508\n",
      "Тимур Мухаматулин : 1507\n",
      "Руслан Лепшоков : 1505\n",
      "Ефим Подвойский : 1503\n",
      "Илья Устиловский : 1499\n",
      "Борис Вейцман : 1497\n",
      "Евгения Никушина : 1480\n",
      "Мария Корчемкина : 1480\n",
      "Туриан Рафаэлли : 1477\n",
      "Владимир Пузырев : 1474\n",
      "Денис Чебыкин : 1469\n",
      "Олжас Усипбаев : 1460\n",
      "Захар Левентул : 1451\n",
      "Иван Светлаков : 1447\n",
      "Антон Грибанов : 1446\n",
      "Самуил Кеслер : 1444\n",
      "Александр Иванов : 1439\n",
      "Полина Митриковская : 1436\n",
      "Леон Альтман : 1434\n",
      "Виктор Непомнящий : 1430\n",
      "Влад Сафронов  : 1428\n",
      "Карен Марутян : 1427\n",
      "Григорий Остров : 1426\n",
      "Григорий Гольберг : 1426\n",
      "Макс Пинкусович : 1422\n",
      "Григорий Гольберг  : 1422\n",
      "Вардан Багирян : 1418\n",
      "Дмитрий Переледов : 1401\n",
      "Константин Таточенко : 1400\n",
      "Феликс Меликсетян : 1396\n",
      "Анна Бондарь : 1384\n",
      "Bair bee : 1371\n",
      "Александра Батурина : 1364\n",
      "Настя Соколова : 1362\n",
      "Бахтияр Нейман : 1357\n",
      "Василий Ковалев : 1356\n",
      "Женя Караулова : 1355\n",
      "Михаил Файнштейн : 1346\n",
      "Алена Хрисанова : 1332\n",
      "Мария Конакова : 1283\n"
     ]
    },
    {
     "name": "stderr",
     "output_type": "stream",
     "text": [
      "C:\\Users\\Sergey Lobachev\\AppData\\Local\\Temp\\ipykernel_16668\\1240587464.py:4: FutureWarning: The behavior of DataFrame concatenation with empty or all-NA entries is deprecated. In a future version, this will no longer exclude empty or all-NA columns when determining the result dtypes. To retain the old behavior, exclude the relevant entries before the concat operation.\n",
      "  df.loc[len(df)] = [None, None]\n"
     ]
    }
   ],
   "source": [
    "# we'll need a dictionary with current ratings, something like a database for 100+ players\n",
    "# we also need to have a function that calculates updated ratings based on a match\n",
    "\n",
    "# gets a list of players (in fact player ids and corresponding points in a match and then\n",
    "# updates elo for all of them\n",
    "\n",
    "def update_elo(players, points):\n",
    "    expected_scores = [0] * len(players)\n",
    "    actual_scores = [0] * len(players)\n",
    "    for idx_A, player_A in enumerate(players):\n",
    "        for idx_B, player_B in enumerate(players):\n",
    "            if idx_A != idx_B:\n",
    "                expected_scores[idx_A] += calculate_expected_score(ratings_dict[player_A], ratings_dict[player_B])\n",
    "                actual_scores[idx_A] += 1 * int(points[idx_A] > points[idx_B]) + 0.5 * int(points[idx_A] == points[idx_B])\n",
    "    \n",
    "    for idx_A, player in enumerate(players):\n",
    "        ratings_dict[player] += K * (actual_scores[idx_A] - expected_scores[idx_A])\n",
    "    return expected_scores, actual_scores\n",
    "\n",
    "tournament_sequence=[\n",
    "    \"Vuelta_1\",\n",
    "    \"USA\",\n",
    "    \"Bez_Povoda\",\n",
    "    \"Poligon\",\n",
    "    \"Vuelta_2\",\n",
    "    \"Nevermore_1\",\n",
    "    \"Nevermore_2\"\n",
    "]\n",
    "\n",
    "for tournament in tournament_sequence:\n",
    "    matches = parser(\"Data.xlsx\", tournament)\n",
    "    for match in matches:\n",
    "        players = [player_to_id_dict[player] for player in match['player_names']]\n",
    "        scores = match['scores']\n",
    "        update_elo(players, scores)\n",
    "    \n",
    "sorted_rating = [[id_to_player_dict[id], ratings_dict[id]] for id in id_to_player_dict]\n",
    "sorted_rating = sorted(sorted_rating, key = lambda x: -x[1])\n",
    "for player, elo in sorted_rating:\n",
    "    print(f\"{player} : {elo:.0f}\")"
   ]
  }
 ],
 "metadata": {
  "kernelspec": {
   "display_name": "sivenv",
   "language": "python",
   "name": "python3"
  },
  "language_info": {
   "codemirror_mode": {
    "name": "ipython",
    "version": 3
   },
   "file_extension": ".py",
   "mimetype": "text/x-python",
   "name": "python",
   "nbconvert_exporter": "python",
   "pygments_lexer": "ipython3",
   "version": "3.11.4"
  }
 },
 "nbformat": 4,
 "nbformat_minor": 2
}
